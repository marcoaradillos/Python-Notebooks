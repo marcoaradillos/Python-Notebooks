{
 "cells": [
  {
   "cell_type": "markdown",
   "metadata": {},
   "source": [
    "<div>\n",
    "    <img src=\"images/emlyon.png\" style=\"height:60px; float:left; padding-right:10px; margin-top:5px\" />\n",
    "    <span>\n",
    "        <h1 style=\"padding-bottom:5px;\"> Python BootCamp </h1>\n",
    "        <a href=\"https://masters.em-lyon.com/en/msc-in-digital-marketing-data-science\">[Emlyon]</a> MSc in Digital Marketing & Data Science (DMDS) <br/>\n",
    "         September 2022, Paris | © Saeed VARASTEH [RP] | Lucas VILLAIN\n",
    "    </span>\n",
    "</div>"
   ]
  },
  {
   "cell_type": "markdown",
   "metadata": {},
   "source": [
    "<div class=\"alert-info\" style=\"border-bottom: solid 1px lightgray; background-color:#fff4e3;\">\n",
    "    <img src=\"images/homework.png\" style=\"height:60px; float:left; padding-right:10px;\" />\n",
    "    <span style=\"font-weight:bold; color:#db9425\">\n",
    "        <h4 style=\"padding-top:25px;\"> HOMEWORK 01 </h4>\n",
    "    </span>\n",
    "</div>"
   ]
  },
  {
   "cell_type": "markdown",
   "metadata": {},
   "source": [
    "### Homework 01 - Guessing Game\n",
    "\n",
    "---"
   ]
  },
  {
   "cell_type": "markdown",
   "metadata": {},
   "source": [
    "Use random number generation to program a little game:\n",
    "\n",
    "The computer thinks of a random number between 1 and 100. It then prompts the user to guess what the number is. If the user is wrong, the computer prints whether the secret number is greater or smaller than the guessed one. The user may then guess again. If the user is finally right, the computer prints the user’s score (number of tries it took).\n",
    "\n",
    "Example Output:\n",
    "\n",
    "<pre>\n",
    "Ok, I have thought of a number. First guess: <b>10</b> \n",
    "My number is smaller than that. Next guess: <b>5</b> \n",
    "My number is larger than that. Next guess: <b>7</b> \n",
    "Correct! It took you 3 guesses.\n",
    "</pre>"
   ]
  },
  {
   "cell_type": "markdown",
   "metadata": {},
   "source": [
    "---"
   ]
  },
  {
   "cell_type": "code",
   "execution_count": 2,
   "metadata": {},
   "outputs": [
    {
     "name": "stdout",
     "output_type": "stream",
     "text": [
      "Okay I have thought of a number. First guess: 25\n",
      "My number is larger than that. Next guess: 90\n",
      "My number is smaller than that. Next guess: 87\n",
      "My number is smaller than that. Next guess: 73\n",
      "My number is smaller than that. Next guess: 33\n",
      "My number is smaller than that. Next guess: 29\n",
      "My number is smaller than that. Next guess: 26\n",
      "My number is larger than that. Next guess: 28\n",
      "It took you  7 guesses.\n"
     ]
    }
   ],
   "source": [
    "import random\n",
    "\n",
    "x = int(input(\"Okay I have thought of a number. First guess: \"))\n",
    "y = random.randint(1,100)\n",
    "count = 0\n",
    "\n",
    "while x != y:\n",
    "    count = count + 1\n",
    "    if x > y:\n",
    "        x = int(input(\"My number is smaller than that. Next guess: \"))\n",
    "    else:\n",
    "        x = int(input(\"My number is larger than that. Next guess: \"))\n",
    "\n",
    "print(\"It took you \", count,\"guesses.\")"
   ]
  },
  {
   "cell_type": "code",
   "execution_count": null,
   "metadata": {},
   "outputs": [],
   "source": []
  }
 ],
 "metadata": {
  "kernelspec": {
   "display_name": "Python 3 (ipykernel)",
   "language": "python",
   "name": "python3"
  },
  "language_info": {
   "codemirror_mode": {
    "name": "ipython",
    "version": 3
   },
   "file_extension": ".py",
   "mimetype": "text/x-python",
   "name": "python",
   "nbconvert_exporter": "python",
   "pygments_lexer": "ipython3",
   "version": "3.9.12"
  }
 },
 "nbformat": 4,
 "nbformat_minor": 2
}
