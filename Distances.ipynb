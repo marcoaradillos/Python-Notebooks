{
 "cells": [
  {
   "cell_type": "markdown",
   "metadata": {},
   "source": [
    "<div>\n",
    "    <img src=\"images/emlyon.png\" style=\"height:60px; float:left; padding-right:10px; margin-top:5px\" />\n",
    "    <span>\n",
    "        <h1 style=\"padding-bottom:5px;\"> Python BootCamp </h1>\n",
    "        <a href=\"https://masters.em-lyon.com/en/msc-in-digital-marketing-data-science\">[Emlyon]</a> MSc in Digital Marketing & Data Science (DMDS) <br/>\n",
    "         September 2022, Paris | © Saeed VARASTEH [RP] | Lucas VILLAIN\n",
    "    </span>\n",
    "</div>"
   ]
  },
  {
   "cell_type": "markdown",
   "metadata": {},
   "source": [
    "<div class=\"alert-info\" style=\"border-bottom: solid 1px lightgray; background-color:#fff4e3;\">\n",
    "    <img src=\"images/homework.png\" style=\"height:60px; float:left; padding-right:10px;\" />\n",
    "    <span style=\"font-weight:bold; color:#db9425\">\n",
    "        <h4 style=\"padding-top:25px;\"> HOMEWORK 06 </h4>\n",
    "    </span>\n",
    "</div>"
   ]
  },
  {
   "cell_type": "markdown",
   "metadata": {},
   "source": [
    "### Homework 06 - Distances\n",
    "\n",
    "---"
   ]
  },
  {
   "cell_type": "markdown",
   "metadata": {
    "scrolled": true
   },
   "source": [
    "Read in the file \"distances.txt\". It contains numbers with units meters (m), centimeters (cm) and millimeters (mm). Calculate the total distance in meters and print your result. i.e. convert all numbers into the same unit, cast them to floats and calculate the sum of all numbers."
   ]
  },
  {
   "cell_type": "code",
   "execution_count": 12,
   "metadata": {},
   "outputs": [
    {
     "name": "stdout",
     "output_type": "stream",
     "text": [
      "['50 m\\n', '4500 cm\\n', '500 mm\\n', '45 m\\n', '90 m\\n', '100000 cm\\n', '487446 mm']\n"
     ]
    }
   ],
   "source": [
    "# your code\n",
    "\n",
    "my_file = open(file=\"Lessons from SAED\\\\data\\\\data\\\\exercises\\\\distances.txt\" , mode=\"r\")\n",
    "mytext = my_file.readlines()\n",
    "\n",
    "print(mytext)\n",
    "\n",
    "my_file.close()"
   ]
  },
  {
   "cell_type": "code",
   "execution_count": 20,
   "metadata": {},
   "outputs": [
    {
     "name": "stdout",
     "output_type": "stream",
     "text": [
      "There is m at  3 There is cm at  -1 There is mm at -1\n",
      "There is m at  6 There is cm at  5 There is mm at -1\n",
      "There is m at  4 There is cm at  -1 There is mm at 4\n",
      "There is m at  3 There is cm at  -1 There is mm at -1\n",
      "There is m at  3 There is cm at  -1 There is mm at -1\n",
      "There is m at  8 There is cm at  7 There is mm at -1\n",
      "There is m at  7 There is cm at  -1 There is mm at 7\n",
      "The total meters combined are: 1717.946\n",
      "<class 'float'>\n"
     ]
    }
   ],
   "source": [
    "new_list = []\n",
    "for i in mytext: #check if there is cm, mm, and m\n",
    "    check_cm = i.find(\"cm\")\n",
    "    check_mm = i.find(\"mm\")\n",
    "    check_m = i.find(\"m\")\n",
    "    print(\"There is m at \", check_m, \"There is cm at \", check_cm, \"There is mm at\", check_mm)\n",
    "                \n",
    "    if check_cm != -1:\n",
    "        number = float(i[:check_cm]) / 100\n",
    "        new_list.append(number)\n",
    "        \n",
    "    if check_mm != -1:\n",
    "        number = float(i[:check_mm]) / 1000\n",
    "        new_list.append(number)\n",
    "        \n",
    "    if check_cm == -1:\n",
    "        if check_mm == -1:\n",
    "            if check_m != -1:\n",
    "                number = float(i[:check_m])\n",
    "                new_list.append(number)\n",
    "        \n",
    "total_meters = sum(new_list)\n",
    "print(\"The total meters combined are:\" , total_meters)\n",
    "print(type(total_meters))\n"
   ]
  },
  {
   "cell_type": "code",
   "execution_count": null,
   "metadata": {},
   "outputs": [],
   "source": []
  },
  {
   "cell_type": "code",
   "execution_count": null,
   "metadata": {},
   "outputs": [],
   "source": []
  },
  {
   "cell_type": "code",
   "execution_count": null,
   "metadata": {},
   "outputs": [],
   "source": []
  },
  {
   "cell_type": "code",
   "execution_count": null,
   "metadata": {},
   "outputs": [],
   "source": []
  },
  {
   "cell_type": "code",
   "execution_count": null,
   "metadata": {},
   "outputs": [],
   "source": []
  },
  {
   "cell_type": "code",
   "execution_count": null,
   "metadata": {},
   "outputs": [],
   "source": []
  }
 ],
 "metadata": {
  "kernelspec": {
   "display_name": "Python 3 (ipykernel)",
   "language": "python",
   "name": "python3"
  },
  "language_info": {
   "codemirror_mode": {
    "name": "ipython",
    "version": 3
   },
   "file_extension": ".py",
   "mimetype": "text/x-python",
   "name": "python",
   "nbconvert_exporter": "python",
   "pygments_lexer": "ipython3",
   "version": "3.9.12"
  }
 },
 "nbformat": 4,
 "nbformat_minor": 2
}
