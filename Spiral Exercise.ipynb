{
 "cells": [
  {
   "cell_type": "markdown",
   "id": "7a600b45",
   "metadata": {},
   "source": [
    "Read in the file \"spiral_data.txt\" (attached). Each line of this file contains the x and y coordinates of a point in a 2D plane. I want you to read this file, save the x and y values in an appropriate data structure and then plot x values versus the y values (scatter plot)."
   ]
  },
  {
   "cell_type": "code",
   "execution_count": 4,
   "id": "23791d1c",
   "metadata": {},
   "outputs": [
    {
     "name": "stdout",
     "output_type": "stream",
     "text": [
      "[31.95, 31.15, 30.45, 29.7, 28.9, 28.05, 27.2, 26.35, 25.4, 24.6, 23.6, 22.75, 21.85, 20.9, 20.0, 19.1, 18.2, 17.3, 16.55, 15.7, 14.85, 14.15, 13.4, 12.7, 12.05, 11.45, 10.9, 10.3, 9.7, 9.35, 8.9, 8.55, 8.15, 7.95, 7.75, 7.55, 7.45, 7.35, 7.3, 7.35, 7.35, 7.55, 7.7, 7.8, 8.05, 8.3, 8.65, 8.9, 9.3, 9.65, 10.2, 10.6, 11.1, 11.55, 11.95, 12.55, 13.05, 13.45, 14.0, 14.55, 15.1, 15.7, 16.15, 16.7, 17.15, 17.75, 18.2, 18.65, 19.1, 19.6, 20.0, 20.4, 20.7, 21.0, 21.45, 21.75, 22.0, 22.25, 22.5, 22.65, 22.75, 22.9, 23.0, 23.1, 23.15, 23.2, 23.2, 23.2, 23.1, 23.05, 22.9, 22.85, 22.7, 22.6, 22.55, 22.4, 22.35, 22.2, 22.15, 22.0, 21.9, 21.85, 21.75, 21.65, 21.55, 21.5, 19.35, 20.35, 21.35, 22.25, 23.2, 23.95, 24.9, 25.6, 26.35, 27.15, 27.75, 28.3, 28.95, 29.5, 29.95, 30.4, 30.6, 30.9, 31.25, 31.35, 31.5, 31.55, 31.65, 31.6, 31.45, 31.3, 31.15, 30.9, 30.6, 30.3, 29.9, 29.5, 29.0, 28.5, 28.0, 27.55, 26.9, 26.25, 25.7, 25.15, 24.5, 23.9, 23.15, 22.5, 21.9, 21.25, 20.5, 19.9, 19.25, 18.75, 18.05, 17.5, 16.9, 16.35, 15.8, 15.4, 14.9, 14.45, 13.95, 13.6, 13.25, 12.95, 12.65, 12.35, 12.2, 11.95, 11.8, 11.75, 11.55, 11.55, 11.55, 11.55, 11.6, 11.65, 11.8, 11.85, 12.0, 12.15, 12.3, 12.55, 12.8, 13.1, 13.3, 13.55, 13.8, 14.15, 14.45, 14.85, 15.0, 15.25, 15.55, 15.95, 16.2, 16.55, 16.85, 17.2, 17.4, 17.65, 17.8, 18.0, 18.2, 3.9, 3.55, 3.35, 3.1, 3.1, 3.05, 3.0, 3.1, 3.2, 3.45, 3.7, 3.95, 4.35, 4.7, 5.15, 5.6, 6.2, 6.8, 7.35, 8.05, 8.8, 9.5, 10.2, 10.9, 11.7, 12.45, 13.3, 14.05, 14.7, 15.55, 16.4, 17.1, 17.9, 18.55, 19.35, 20.1, 20.7, 21.45, 22.05, 22.7, 23.35, 23.8, 24.3, 24.75, 25.25, 25.65, 26.05, 26.2, 26.6, 26.75, 27.0, 27.15, 27.15, 27.35, 27.35, 27.4, 27.3, 27.15, 27.0, 27.0, 26.75, 26.55, 26.3, 25.95, 25.75, 25.35, 25.05, 24.8, 24.4, 24.05, 23.55, 23.2, 22.75, 22.3, 21.9, 21.45, 21.1, 20.7, 20.35, 19.95, 19.55, 19.15, 18.85, 18.45, 18.15, 17.85, 17.5, 17.2, 17.0, 16.75, 16.65, 16.5, 16.35, 16.2, 16.15, 16.0, 15.95, 15.9, 15.8, 15.8, 15.75, 15.65, 15.65, 15.65, 15.65] [7.95, 7.3, 6.65, 6.0, 5.55, 5.0, 4.55, 4.15, 3.85, 3.6, 3.3, 3.15, 3.05, 3.0, 2.9, 3.0, 3.2, 3.25, 3.5, 3.7, 4.1, 4.4, 4.75, 5.2, 5.65, 6.15, 6.65, 7.25, 7.85, 8.35, 9.05, 9.65, 10.35, 10.95, 11.7, 12.35, 13.0, 13.75, 14.35, 14.95, 15.75, 16.35, 16.95, 17.55, 18.15, 18.75, 19.3, 19.85, 20.3, 20.8, 21.25, 21.65, 22.15, 22.45, 22.7, 23.0, 23.2, 23.4, 23.55, 23.6, 23.75, 23.75, 23.85, 23.8, 23.75, 23.75, 23.6, 23.5, 23.35, 23.15, 22.95, 22.7, 22.55, 22.15, 21.95, 21.55, 21.25, 21.0, 20.7, 20.35, 20.05, 19.65, 19.35, 19.0, 18.65, 18.25, 18.05, 17.8, 17.45, 17.15, 16.9, 16.6, 16.4, 16.2, 16.05, 15.95, 15.8, 15.65, 15.55, 15.4, 15.3, 15.25, 15.15, 15.05, 15.0, 14.9, 31.65, 31.45, 31.1, 30.9, 30.45, 30.05, 29.65, 29.05, 28.5, 27.9, 27.35, 26.6, 25.85, 25.15, 24.45, 23.7, 22.9, 22.1, 21.3, 20.55, 19.7, 18.9, 18.15, 17.35, 16.55, 15.8, 15.05, 14.35, 13.65, 13.0, 12.3, 11.75, 11.15, 10.6, 10.1, 9.65, 9.1, 8.8, 8.4, 8.05, 7.75, 7.65, 7.4, 7.3, 7.1, 7.05, 7.0, 6.95, 7.05, 7.1, 7.25, 7.35, 7.6, 7.8, 8.05, 8.35, 8.7, 8.9, 9.3, 9.65, 10.1, 10.55, 10.9, 11.4, 11.75, 12.2, 12.65, 13.05, 13.6, 14.0, 14.35, 14.7, 15.25, 15.7, 16.05, 16.5, 16.75, 17.2, 17.6, 17.85, 18.05, 18.4, 18.6, 18.85, 19.05, 19.25, 19.5, 19.55, 19.7, 19.7, 19.85, 19.9, 19.9, 19.9, 19.9, 19.9, 19.8, 19.75, 19.7, 19.6, 19.55, 9.6, 10.65, 11.4, 12.35, 13.25, 14.15, 15.1, 16.0, 16.85, 17.75, 18.7, 19.55, 20.25, 21.1, 21.8, 22.5, 23.3, 23.85, 24.45, 24.95, 25.45, 26.0, 26.35, 26.75, 27.0, 27.25, 27.6, 27.6, 27.75, 27.75, 27.75, 27.75, 27.75, 27.7, 27.6, 27.35, 27.1, 26.8, 26.5, 26.15, 25.65, 25.3, 24.85, 24.35, 23.95, 23.45, 23.0, 22.3, 21.8, 21.25, 20.7, 20.15, 19.6, 19.1, 18.45, 18.0, 17.4, 16.9, 16.4, 15.9, 15.35, 14.85, 14.45, 14.1, 13.7, 13.3, 12.95, 12.7, 12.45, 12.2, 11.85, 11.65, 11.4, 11.3, 11.1, 11.05, 11.0, 10.95, 10.95, 11.0, 11.0, 11.05, 11.1, 11.25, 11.35, 11.5, 11.7, 11.95, 12.05, 12.2, 12.35, 12.5, 12.7, 12.8, 12.95, 13.1, 13.25, 13.4, 13.5, 13.65, 13.85, 14.05, 14.25, 14.5, 14.6]\n"
     ]
    }
   ],
   "source": [
    "my_file = open(file=\"Lessons from SAED\\\\data\\\\data\\\\spiral_data.txt\" , mode=\"r\")\n",
    "\n",
    "mytext = my_file.readlines() \n",
    "\n",
    "my_file.close()\n",
    "\n",
    "x = []\n",
    "y = []\n",
    "\n",
    "for line in mytext:\n",
    "        a =line.split(',')\n",
    "        x.append(float(a[0]))\n",
    "        y.append(float(a[1]))\n",
    "        \n",
    "print(x,y)\n",
    "    \n",
    "    \n"
   ]
  },
  {
   "cell_type": "code",
   "execution_count": 5,
   "id": "44e74eaf",
   "metadata": {},
   "outputs": [
    {
     "data": {
      "text/plain": [
       "Text(0, 0.5, 'Y')"
      ]
     },
     "execution_count": 5,
     "metadata": {},
     "output_type": "execute_result"
    },
    {
     "data": {
      "image/png": "[encoded data removed]",
      "text/plain": [
       "<Figure size 432x288 with 1 Axes>"
      ]
     },
     "metadata": {
      "needs_background": "light"
     },
     "output_type": "display_data"
    }
   ],
   "source": [
    "import matplotlib.pyplot as plt\n",
    "\n",
    "fig, ax = plt.subplots(nrows=1,ncols=1) # the short way\n",
    "ax.scatter(x,y, color = \"black\")\n",
    "ax.set_title(\"spiral data\")\n",
    "ax.set_xlabel(\"X\")\n",
    "ax.set_ylabel(\"Y\")"
   ]
  },
  {
   "cell_type": "code",
   "execution_count": null,
   "id": "576178d5",
   "metadata": {},
   "outputs": [],
   "source": []
  },
  {
   "cell_type": "code",
   "execution_count": null,
   "id": "99b0984f",
   "metadata": {},
   "outputs": [],
   "source": []
  },
  {
   "cell_type": "code",
   "execution_count": null,
   "id": "c869820f",
   "metadata": {},
   "outputs": [],
   "source": []
  },
  {
   "cell_type": "code",
   "execution_count": null,
   "id": "330c93ae",
   "metadata": {},
   "outputs": [],
   "source": []
  }
 ],
 "metadata": {
  "kernelspec": {
   "display_name": "Python 3 (ipykernel)",
   "language": "python",
   "name": "python3"
  },
  "language_info": {
   "codemirror_mode": {
    "name": "ipython",
    "version": 3
   },
   "file_extension": ".py",
   "mimetype": "text/x-python",
   "name": "python",
   "nbconvert_exporter": "python",
   "pygments_lexer": "ipython3",
   "version": "3.9.12"
  }
 },
 "nbformat": 4,
 "nbformat_minor": 5
}
