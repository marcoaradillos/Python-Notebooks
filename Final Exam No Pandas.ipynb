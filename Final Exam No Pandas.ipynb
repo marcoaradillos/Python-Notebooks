{
 "cells": [
  {
   "cell_type": "markdown",
   "metadata": {},
   "source": [
    "<div>\n",
    "    <img src=\"emlyon.png\" style=\"height:60px; float:left; padding-right:10px; margin-top:5px\" />\n",
    "    <span>\n",
    "        <h1 style=\"padding-bottom:5px;\"> Python BootCamp </h1>\n",
    "        <a href=\"https://masters.em-lyon.com/en/msc-in-digital-marketing-data-science\">[Emlyon]</a> MSc in Digital Marketing & Data Science (DMDS) <br/>\n",
    "         December 2022, Paris | © Saeed VARASTEH [RP] | Lucas VILLAIN\n",
    "    </span>\n",
    "</div>"
   ]
  },
  {
   "cell_type": "markdown",
   "metadata": {},
   "source": [
    "<div class=\"alert-info\" style=\"border-bottom: solid 1px lightgray; background-color:#d3dbd3; text-align:left\">\n",
    "    <span style=\"font-weight:bold; color:#476b47\">\n",
    "        <h4 style=\"padding:15px;\"> FINAL EXAM </h4>\n",
    "    </span>\n",
    "</div>\n",
    "<div style=\"text-align:right\">Dec 16th, 2022</div>"
   ]
  },
  {
   "cell_type": "markdown",
   "metadata": {},
   "source": [
    "<hr style=\"color:gray;\"/>\n",
    "\n",
    "__Your Name: Marco ARADILLOS__  Double-click here and write your name.\n",
    "\n",
    "<hr style=\"color:gray;\"/>"
   ]
  },
  {
   "cell_type": "markdown",
   "metadata": {},
   "source": [
    "<h5 style=\"color:red\">Notes:</h5>\n",
    "\n",
    "<ul>\n",
    "    <li>Do not forget to enter <b>your name</b> above.</li>\n",
    "    <li>Do not forget to <b>comment your codes</b> as much as you can.</li>\n",
    "    <li>Do not try to search directly for the answers online. However, if you do, which is not recommended, comment on the code and explain the solution and <b>cite the url</b> that you picked the code from.</li>\n",
    "    <li>Do not share your codes.</li>\n",
    "</ul>\n",
    "\n",
    "<h5 style=\"color:gray\">Good Luck!</h5>\n",
    "\n",
    "---"
   ]
  },
  {
   "cell_type": "markdown",
   "metadata": {},
   "source": [
    "### Question 01 - Coins (10 points)\n",
    "\n",
    "---"
   ]
  },
  {
   "cell_type": "markdown",
   "metadata": {},
   "source": [
    "- Write a program that takes one integer value from the user and specifies the minimum number of coins and paper money to change it using only 1 euro coins, 2 euro coins, and 5 euro notes.  \n",
    "\n",
    "For example, if the user enters 23, the expected output is: \n",
    "\n",
    "<pre>\n",
    "4 of 5-euro notes, 1 2-euro coin and 1 1-euro coin\n",
    "</pre>"
   ]
  },
  {
   "cell_type": "code",
   "execution_count": 1,
   "metadata": {},
   "outputs": [
    {
     "name": "stdout",
     "output_type": "stream",
     "text": [
      "Enter an integer value: 5\n",
      "1 of 5-euro notes, 0 2-euro coins, and 0 1-euro coins\n"
     ]
    }
   ],
   "source": [
    "# using input to get x\n",
    "x = int(input(\"Enter an integer value: \"))\n",
    "\n",
    "fiveEuros = 0\n",
    "TwoEurocoins = 0\n",
    "OneEurocoins = 0\n",
    "\n",
    "# Calculating 5,2,1 neeeded\n",
    "\n",
    "if x >= 5:\n",
    "    fiveEuros = x // 5\n",
    "    x %= 5\n",
    "\n",
    "if x >= 2:\n",
    "    TwoEurocoins = x // 2\n",
    "    x %= 2\n",
    "    \n",
    "if x >= 1:\n",
    "    OneEurocoins = x\n",
    "\n",
    "\n",
    "print(\"{} of 5-euro notes, {} 2-euro coins, and {} 1-euro coins\".format(fiveEuros, TwoEurocoins, OneEurocoins))\n",
    "\n"
   ]
  },
  {
   "cell_type": "markdown",
   "metadata": {},
   "source": [
    "### Question 02 - Normal Distribution (20 points)\n",
    "\n",
    "---"
   ]
  },
  {
   "cell_type": "markdown",
   "metadata": {},
   "source": [
    "1- Write a function that computes the normal distribution function with parameters `x`, `mu` ($\\mu$) and `sigma` ($\\sigma$) as:\n",
    "\n",
    "<div>\n",
    "<img style=\"height:100px\" src=\"normal.png\" />\n",
    "</div>"
   ]
  },
  {
   "cell_type": "code",
   "execution_count": null,
   "metadata": {},
   "outputs": [],
   "source": [
    "def normal_pdf(x, mu, sigma):\n",
    "    out = 0\n",
    "    \n",
    "    # your code\n",
    "    \n",
    "    return out"
   ]
  },
  {
   "cell_type": "markdown",
   "metadata": {},
   "source": [
    "2- Test your function with `x` being 1, 0 and -1. Set `mu=0` and `sigma=1`."
   ]
  },
  {
   "cell_type": "code",
   "execution_count": null,
   "metadata": {},
   "outputs": [],
   "source": [
    "print(normal_pdf(1,0,1))   # The expected output is: 0.24\n",
    "print(normal_pdf(0,0,1))   # The expected output is: 0.39\n",
    "print(normal_pdf(-1,0,1))  # The expected output is: 0.24"
   ]
  },
  {
   "cell_type": "markdown",
   "metadata": {},
   "source": [
    "3- Create a 2D plot for `x` values in the range of -5 and 5 against the `normal_pdf(x)` values."
   ]
  },
  {
   "cell_type": "code",
   "execution_count": null,
   "metadata": {},
   "outputs": [],
   "source": [
    "# your code\n"
   ]
  },
  {
   "cell_type": "markdown",
   "metadata": {},
   "source": [
    "4- Add to this plot a vertical line at `x=1.5` and a horizontal line at `normal_pdf(1.5,0,1)`."
   ]
  },
  {
   "cell_type": "code",
   "execution_count": null,
   "metadata": {},
   "outputs": [],
   "source": [
    "# your code\n"
   ]
  },
  {
   "cell_type": "markdown",
   "metadata": {},
   "source": [
    "Here is the final expected output:\n",
    "\n",
    "<div>\n",
    "<img style=\"height:300px\" src=\"normalplot.png\" />\n",
    "</div>"
   ]
  },
  {
   "cell_type": "markdown",
   "metadata": {},
   "source": [
    "### Question 03 - Min-Max Normalization (10 points)\n",
    "\n",
    "---"
   ]
  },
  {
   "cell_type": "markdown",
   "metadata": {},
   "source": [
    "Normalization is a process that makes something more normal or regular. In data analysis, we use normalization to re-scale our data.\n",
    "\n",
    "Min-max normalization performs a linear transformation and scaled data in the range (0, 1).\n",
    "\n",
    "The formula to achieve this is the following:\n",
    "\n",
    "<br/>\n",
    "<div>\n",
    "<img style=\"height:300px\" src=\"minmax.png\" />\n",
    "</div>\n",
    "<br/>\n",
    "\n",
    "where $\\textbf{x}$ is a list of values, $\\textbf{x'}$ is the new normalized list, and $\\textbf{x}_i$ means the i th element of $\\textbf{x}$, i.e., $x[i]$."
   ]
  },
  {
   "cell_type": "markdown",
   "metadata": {},
   "source": [
    "Write a function `minmax_norm()` that takes in a list and return the normalized list. "
   ]
  },
  {
   "cell_type": "code",
   "execution_count": null,
   "metadata": {},
   "outputs": [],
   "source": [
    "def minmax_norm(x):\n",
    "    x_normalized = []\n",
    "    \n",
    "    # your code\n",
    "    \n",
    "    return x_normalized"
   ]
  },
  {
   "cell_type": "markdown",
   "metadata": {},
   "source": [
    "Test your implementation with the list `[1, 5, 8, 7, 2]`."
   ]
  },
  {
   "cell_type": "code",
   "execution_count": 88,
   "metadata": {},
   "outputs": [
    {
     "data": {
      "text/plain": [
       "[0.0, 0.5714285714285714, 1.0, 0.8571428571428571, 0.14285714285714285]"
      ]
     },
     "execution_count": 88,
     "metadata": {},
     "output_type": "execute_result"
    }
   ],
   "source": [
    "# your code\n",
    "def minmax_norm(x):\n",
    "    xnormalized = []\n",
    "    \n",
    "    maxX = max(x)\n",
    "    minX = min(x)\n",
    "    for val in x:\n",
    "        xnormalized.append((val - minX) / (maxX - minX))\n",
    "    \n",
    "    return xnormalized\n",
    "\n",
    "\n",
    "minmax_norm([1, 5, 8, 7, 2])"
   ]
  },
  {
   "cell_type": "markdown",
   "metadata": {},
   "source": [
    "### Question 04 - Palindrome (10 points)\n",
    "\n",
    "---"
   ]
  },
  {
   "cell_type": "markdown",
   "metadata": {},
   "source": [
    "A __palindrome__ is a word, number, phrase, or other sequence of symbols that reads the same backwards as forwards, such as the words \"madam\".\n",
    "\n",
    "Write a function `is_palindrome()` to check whether a given string is palindrome or not. Your function must return `True` if the word is a palindrome and `False` otherwise.\n",
    "\n",
    "Note: Your function must return `False` if the length of the input word is 1."
   ]
  },
  {
   "cell_type": "code",
   "execution_count": 1,
   "metadata": {},
   "outputs": [],
   "source": [
    "def is_palindrome(word):\n",
    "# if length of the word is 1, it will return false\n",
    "  if len(word) == 1:\n",
    "    return False\n",
    "\n",
    "# string will be reversed and checked against the original\n",
    "\n",
    "  return word == word[::-1]\n",
    "\n",
    "#help from stackoverflow"
   ]
  },
  {
   "cell_type": "markdown",
   "metadata": {},
   "source": [
    "Test your function with these words:"
   ]
  },
  {
   "cell_type": "code",
   "execution_count": 2,
   "metadata": {},
   "outputs": [
    {
     "name": "stdout",
     "output_type": "stream",
     "text": [
      "True\n",
      "True\n",
      "True\n",
      "False\n",
      "False\n"
     ]
    }
   ],
   "source": [
    "print( is_palindrome(\"madam\") )\n",
    "print( is_palindrome(\"racecar\") )\n",
    "print( is_palindrome(\"abba\") )\n",
    "print( is_palindrome(\"emlyon\") )\n",
    "print( is_palindrome(\"A\") )"
   ]
  },
  {
   "cell_type": "markdown",
   "metadata": {},
   "source": [
    "### Question 05 - Files (20 points)\n",
    "\n",
    "---"
   ]
  },
  {
   "cell_type": "markdown",
   "metadata": {},
   "source": [
    "1- Write a program that identifies and prints out the number of palindromes from a text file. Test your code with the \"palindrome.txt\" file.\n",
    "\n",
    "__Note__: Use the `is_palindrome()` function that you just wrote."
   ]
  },
  {
   "cell_type": "code",
   "execution_count": 3,
   "metadata": {},
   "outputs": [
    {
     "data": {
      "text/plain": [
       "['Are the following lines palindromes?\\n',\n",
       " 'A man, a plan, a canal, Panama.\\n',\n",
       " 'This line is not a palindrome\\n',\n",
       " \"Don't nod\\n\",\n",
       " 'The next one might be my favorite\\n',\n",
       " 'Taco Cat!\\n',\n",
       " 'Another non-palindrome\\n',\n",
       " 'Rats live on no evil star.\\n',\n",
       " \"If your program finds this line, it's not working\\n\",\n",
       " 'Neil, a trap! Sid is part alien!\\n',\n",
       " 'Step on no pets.\\n',\n",
       " \"Dammit, I'm mad!\\n\",\n",
       " \"Madam, I'm Adam.\\n\",\n",
       " \"Madam, in Eden, I'm Adam.\\n\",\n",
       " 'Rise to vote, sir.\\n',\n",
       " 'Never odd or even\\n',\n",
       " 'If I had a hi-fi\\n',\n",
       " 'Yo, banana boy!\\n',\n",
       " 'Do geese see God?\\n',\n",
       " 'No devil lived on.\\n',\n",
       " 'Ah, Satan sees Natasha.\\n',\n",
       " 'Lewd did I live & evil I did dwel!\\n',\n",
       " 'A dog, a panic in a pagoda\\n',\n",
       " 'Was it a cat I saw?\\n',\n",
       " 'Was it a car or a cat I saw?\\n',\n",
       " \"A Toyota's a Toyota.\\n\",\n",
       " 'Another non-palindrome\\n',\n",
       " 'No lemons, no melon\\n',\n",
       " 'Now I see bees, I won.\\n',\n",
       " 'Ma is as selfless as I am.\\n',\n",
       " 'Nurse, I spy gypsies-run!\\n',\n",
       " \"The next one isn't as cool as the Panama one\\n\",\n",
       " 'A dog, a plan, a canal, pagoda\\n',\n",
       " \"Was it Eliot's toilet I saw?\\n\",\n",
       " 'Some of these are hilarious. Papaya war?!\\n',\n",
       " 'No, sir, away! A papaya war is on!\\n',\n",
       " \"Go hang a salami, I'm a lasagna hog.\\n\",\n",
       " 'I, madam, I made radio! So I dared! Am I mad? Am I?\\n',\n",
       " 'Swap God for a janitor, rot in a jar of dog paws.\\n',\n",
       " 'Eva, can I see bees in a cave?\\n',\n",
       " 'Not a palindrome\\n',\n",
       " 'So many dynamos!\\n',\n",
       " 'Red rum, sir, is murder.']"
      ]
     },
     "execution_count": 3,
     "metadata": {},
     "output_type": "execute_result"
    }
   ],
   "source": [
    "# your code,  opening the file and putting it in a list\n",
    "f = open(file='palindrome.txt', mode='r')\n",
    "file_output = f.readlines() # reads the whole document\n",
    "f.close()\n",
    "file_output"
   ]
  },
  {
   "cell_type": "code",
   "execution_count": 5,
   "metadata": {},
   "outputs": [
    {
     "name": "stdout",
     "output_type": "stream",
     "text": [
      "Number of palindromes: 3\n"
     ]
    }
   ],
   "source": [
    "# Putting in my palindrome code:\n",
    "def is_palindrome(word):\n",
    "# if length of the word is 1, it will return false\n",
    "  if len(word) == 1:\n",
    "    return False\n",
    "# string will be reversed and checked against the original\n",
    "\n",
    "  return word == word[::-1]\n",
    "\n",
    "# opening the file and putting it in a list\n",
    "f = open(file='palindrome.txt', mode='r')\n",
    "file_output = f.readlines() # reads the whole document\n",
    "f.close()\n",
    "file_output\n",
    "\n",
    "# setting a counter for how many palindromes\n",
    "num_palindromes = 0\n",
    "\n",
    "for i in file_output:\n",
    "  words = i.split()\n",
    "\n",
    "  # Iterate over the words in the line\n",
    "  for word in words:\n",
    "    if is_palindrome(word):\n",
    "      # checking the count of palindromes\n",
    "      num_palindromes += 1\n",
    "\n",
    "print(\"Number of palindromes:\", num_palindromes)\n",
    "\n",
    "#help from stackoverflow\n"
   ]
  },
  {
   "cell_type": "markdown",
   "metadata": {},
   "source": [
    "2- Write a program that counts how many words in this file start with the letter 's'."
   ]
  },
  {
   "cell_type": "code",
   "execution_count": 42,
   "metadata": {},
   "outputs": [
    {
     "name": "stdout",
     "output_type": "stream",
     "text": [
      "There are 14 words starting with \"s\"\n"
     ]
    }
   ],
   "source": [
    "# your code\n",
    "\n",
    "def s_word_counter(lines):\n",
    "  s_count = 0\n",
    "\n",
    "\n",
    "  \n",
    "  for line in lines:\n",
    "    # splitting the line into a list\n",
    "    words = line.split()\n",
    "    for word in words:\n",
    "      # checking words that starts with s\n",
    "      if word[0] == 's':\n",
    "        s_count = s_count + 1\n",
    "        \n",
    "  return s_count\n",
    "\n",
    "# trying out my defined function\n",
    "lines = ['Are the following lines palindromes?\\n',\n",
    " 'A man, a plan, a canal, Panama.\\n',\n",
    " 'This line is not a palindrome\\n',\n",
    " \"Don't nod\\n\",\n",
    " 'The next one might be my favorite\\n',\n",
    " 'Taco Cat!\\n',\n",
    " 'Another non-palindrome\\n',\n",
    " 'Rats live on no evil star.\\n',\n",
    " \"If your program finds this line, it's not working\\n\",\n",
    " 'Neil, a trap! Sid is part alien!\\n',\n",
    " 'Step on no pets.\\n',\n",
    " \"Dammit, I'm mad!\\n\",\n",
    " \"Madam, I'm Adam.\\n\",\n",
    " \"Madam, in Eden, I'm Adam.\\n\",\n",
    " 'Rise to vote, sir.\\n',\n",
    " 'Never odd or even\\n',\n",
    " 'If I had a hi-fi\\n',\n",
    " 'Yo, banana boy!\\n',\n",
    " 'Do geese see God?\\n',\n",
    " 'No devil lived on.\\n',\n",
    " 'Ah, Satan sees Natasha.\\n',\n",
    " 'Lewd did I live & evil I did dwel!\\n',\n",
    " 'A dog, a panic in a pagoda\\n',\n",
    " 'Was it a cat I saw?\\n',\n",
    " 'Was it a car or a cat I saw?\\n',\n",
    " \"A Toyota's a Toyota.\\n\",\n",
    " 'Another non-palindrome\\n',\n",
    " 'No lemons, no melon\\n',\n",
    " 'Now I see bees, I won.\\n',\n",
    " 'Ma is as selfless as I am.\\n',\n",
    " 'Nurse, I spy gypsies-run!\\n',\n",
    " \"The next one isn't as cool as the Panama one\\n\",\n",
    " 'A dog, a plan, a canal, pagoda\\n',\n",
    " \"Was it Eliot's toilet I saw?\\n\",\n",
    " 'Some of these are hilarious. Papaya war?!\\n',\n",
    " 'No, sir, away! A papaya war is on!\\n',\n",
    " \"Go hang a salami, I'm a lasagna hog.\\n\",\n",
    " 'I, madam, I made radio! So I dared! Am I mad? Am I?\\n',\n",
    " 'Swap God for a janitor, rot in a jar of dog paws.\\n',\n",
    " 'Eva, can I see bees in a cave?\\n',\n",
    " 'Not a palindrome\\n',\n",
    " 'So many dynamos!\\n',\n",
    " 'Red rum, sir, is murder.']\n",
    "\n",
    "count = s_word_counter(lines)\n",
    "print(f'There are {count} words starting with \"s\"')\n",
    "\n"
   ]
  },
  {
   "cell_type": "markdown",
   "metadata": {},
   "source": [
    "<div style=\"text-align: right; color:Gray;\">\n",
    "    Have a great day! <br/>\n",
    "    And in case I don't see you again, Happy new year!\n",
    "</div>"
   ]
  },
  {
   "cell_type": "markdown",
   "metadata": {},
   "source": [
    "---"
   ]
  }
 ],
 "metadata": {
  "kernelspec": {
   "display_name": "Python 3 (ipykernel)",
   "language": "python",
   "name": "python3"
  },
  "language_info": {
   "codemirror_mode": {
    "name": "ipython",
    "version": 3
   },
   "file_extension": ".py",
   "mimetype": "text/x-python",
   "name": "python",
   "nbconvert_exporter": "python",
   "pygments_lexer": "ipython3",
   "version": "3.9.12"
  }
 },
 "nbformat": 4,
 "nbformat_minor": 2
}
