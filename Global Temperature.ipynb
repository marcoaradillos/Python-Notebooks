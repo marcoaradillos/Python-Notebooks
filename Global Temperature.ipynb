{
 "cells": [
  {
   "cell_type": "markdown",
   "metadata": {},
   "source": [
    "<div>\n",
    "    <img src=\"images/emlyon.png\" style=\"height:60px; float:left; padding-right:10px; margin-top:5px\" />\n",
    "    <span>\n",
    "        <h1 style=\"padding-bottom:5px;\"> Python BootCamp </h1>\n",
    "        <a href=\"https://masters.em-lyon.com/en/msc-in-digital-marketing-data-science\">[Emlyon]</a> MSc in Digital Marketing & Data Science (DMDS) <br/>\n",
    "         September 2022, Paris | © Saeed VARASTEH [RP] | Lucas VILLAIN\n",
    "    </span>\n",
    "</div>"
   ]
  },
  {
   "cell_type": "markdown",
   "metadata": {},
   "source": [
    "<div class=\"alert-info\" style=\"border-bottom: solid 1px lightgray; background-color:#fff4e3;\">\n",
    "    <img src=\"images/homework.png\" style=\"height:60px; float:left; padding-right:10px;\" />\n",
    "    <span style=\"font-weight:bold; color:#db9425\">\n",
    "        <h4 style=\"padding-top:25px;\"> HOMEWORK 04 </h4>\n",
    "    </span>\n",
    "</div>"
   ]
  },
  {
   "cell_type": "markdown",
   "metadata": {},
   "source": [
    "### Homework 04 - Global Temperature\n",
    "\n",
    "---"
   ]
  },
  {
   "cell_type": "markdown",
   "metadata": {
    "scrolled": true
   },
   "source": [
    "Let us implement a simplified formula for the increase in global temperature levels due to the radiative forcing of CO2 level changes."
   ]
  },
  {
   "cell_type": "markdown",
   "metadata": {},
   "source": [
    "Radiative forcing due to change in CO2 level: $ \\Delta F = \\alpha * ln(\\frac{c_1}{c_0}) $\n",
    "\n",
    "Relation between radiative forcing and temperature: $ \\lambda = \\frac{\\Delta T}{\\Delta F} $\n",
    "\n",
    "$\\alpha$ is fixed at $5.35$ while $\\lambda$ differs from model to model - we will simply use $0.5$.\n",
    "\n",
    "$c_1$ denotes the changed CO2 level, $c_0$ denotes the unchanged CO2 level.\n",
    "\n",
    "Let’s take the CO2 level of January 1970 as the unchanged CO2 level, so $c_0 = 325.03$.\n",
    "\n",
    "Current levels of CO2 were at $c_1 = 411.97$ as of March 2019. We will just assume that the CO2 level has not changed significantly since then for the purposes of our calculations.\n",
    "\n",
    "This would result in a $0.63 K$ increase in global temperature since 1970, which is consistent with the actual change in global temperature, especially considering that there are also other influences on the global climate such as other greenhouse gases."
   ]
  },
  {
   "cell_type": "markdown",
   "metadata": {},
   "source": [
    "__Your Task__\n",
    "\n",
    "1. Calculate how many hours have passed since January 1st 1970 00:00:00.\n",
    "2. Use this time difference to calculate the average CO2 increase per hour since 1970.\n",
    "3. Use this CO2 increase per hour to calculate a projection of what the CO2 level could be in 2100 (assuming that the CO2 increase per hour stays constant).\n",
    "4. Calculate the increase in temperature in from 1970 to 2100 (use your projected CO2 level as $c_1$ and the value from 1970 as $c_0$).\n",
    "5. Now generalize steps 3. and 4. by writing a function \"predict_increase\" that takes an int year larger than 1970 as an input and returns the increase in temperature from 1970 to year."
   ]
  },
  {
   "cell_type": "markdown",
   "metadata": {},
   "source": [
    "Hint: A year has on average 365.25 days.<br/>\n",
    "Hint: You can use `time` or `datetime` modules."
   ]
  },
  {
   "cell_type": "code",
   "execution_count": null,
   "metadata": {},
   "outputs": [],
   "source": [
    "# 1, get how many hours have passed since Jan 1, 1970\n",
    "\n",
    "from datetime import datetime\n",
    "\n",
    "# input datetime\n",
    "dt = datetime.now()\n",
    "print(\"Seconds since 1970,1,1:\", dt.timestamp())\n",
    "\n",
    "hour = dt.timestamp() // 3600\n",
    "print(\"hours since 1970,1,1:\", hour)\n",
    "\n",
    "\n",
    "\n"
   ]
  },
  {
   "cell_type": "markdown",
   "metadata": {},
   "source": [
    "---"
   ]
  },
  {
   "cell_type": "code",
   "execution_count": null,
   "metadata": {},
   "outputs": [],
   "source": [
    "#2 Use this time difference to calculate the average CO2 increase per hour since 1970.\n",
    "c0 = 325.03 # c0\n",
    "c1 = 411.97 # c1\n",
    "lambda_1 = 0.5\n",
    "alpha = 5.35\n",
    "ln = 2.72\n",
    "\n",
    "#calculate delta f\n",
    "delta_f = alpha * (ln*(c1 / c0)) #radiative forcing\n",
    "\n",
    "print(\"Radiative forcing due to change in CO2 level:\", delta_f, \",this is the answer for delta_f\",\"\\n\")\n",
    "\n",
    "delta_T = lambda_1 * delta_f \n",
    "print(\"Temperature is:\", delta_T, \"\\n\") # temperature\n",
    "\n",
    "cdelta = c1 - c0\n",
    "print(\"The difference between the c02 levels of March 2019 to January 1970 is:\", cdelta)\n",
    "\n",
    "\n"
   ]
  },
  {
   "cell_type": "code",
   "execution_count": null,
   "metadata": {},
   "outputs": [],
   "source": [
    "# getting the hour difference from Jan 1970 to Mar 2019\n",
    "\n",
    "from datetime import datetime\n",
    "\n",
    "# input datetime\n",
    "dt_2019 = datetime(2019,3,1)\n",
    "print(\"Seconds since 1970,1,1:\", dt_2019.timestamp())\n",
    "\n",
    "Mar_2019 = dt_2019.timestamp() // 3600\n",
    "print(\"hours since 1970,1,1:\", Mar_2019)\n"
   ]
  },
  {
   "cell_type": "code",
   "execution_count": null,
   "metadata": {},
   "outputs": [],
   "source": [
    "#getting the hour difference between now (October 2022) and March 2019\n",
    "Mar_2019 = 430943.0 # hours from 1970,1,1 to Mar 2019\n",
    "Oct_2022 = hour # from first code, run it first\n",
    "hour_difference2 = Oct_2022 - Mar_2019 \n",
    "hour_difference3 = hour - hour_difference2 # 1970 - 2019\n",
    "\n",
    "\n",
    "print(\"This is the difference in hours between Oct 2022 and Mar 2019:\",hour_difference2 , \"hours\",\"\\n\")\n",
    "\n",
    "print(\"Hours passed from 1970,1,1 to 2019,3,1:\", hour_difference3, \"\\n\")\n",
    "\n",
    "\n",
    "co2_hourly_increase = cdelta / hour_difference3 #cdelta is co2 increase from 1970,1,1 to 2019,3,1\n",
    "print(\"The average increase of co2 per hour from Jan 1970 to Mar 2019 is:\",co2_hourly_increase)"
   ]
  },
  {
   "cell_type": "code",
   "execution_count": null,
   "metadata": {},
   "outputs": [],
   "source": [
    "# getting the hour difference from Jan 2100 to Mar 2019\n",
    "from datetime import datetime\n",
    "\n",
    "# input datetime\n",
    "dt_2100 = datetime(2100,1,1)\n",
    "print(\"Seconds since 1970,1,1:\", dt_2100.timestamp())\n",
    "\n",
    "Jan_2100 = dt_2100.timestamp() // 3600\n",
    "print(\"hours since 1970,1,1:\", Jan_2100)\n",
    "\n",
    "hour_difference4 = Jan_2100 - Mar_2019\n",
    "print(\"The hour difference between Mar 2019 and Jan 2100 is:\",hour_difference4)\n"
   ]
  },
  {
   "cell_type": "code",
   "execution_count": null,
   "metadata": {},
   "outputs": [],
   "source": [
    "# adding the time difference (708,624.0 to hours passed from 1970 to 2019 430,943.0)\n",
    "time_2100_to_1970 = hour_difference4 + hour_difference3\n",
    "print(\"The hour difference from 1970 to 2100 is:\" , time_2100_to_1970)"
   ]
  },
  {
   "cell_type": "code",
   "execution_count": null,
   "metadata": {},
   "outputs": [],
   "source": [
    "# 3 Use this CO2 increase per hour to calculate a projection of \n",
    "# what the CO2 level could be in 2100 (assuming that the CO2 increase per hour stays constant).\n",
    "\n",
    "co2_hourly_increase = 0.00020174361806549835\n",
    "time_2100_to_1970 = 1139567.0\n",
    "\n",
    "co2_2100 = co2_hourly_increase * time_2100_to_1970\n",
    "print(\"The co2 increase from 1970 to 2100 is:\" , co2_2100)\n",
    "\n",
    "c1_2100 = c0 + co2_2100\n",
    "print(\"The 2100 co2 level is:\", c1_2100)"
   ]
  },
  {
   "cell_type": "code",
   "execution_count": null,
   "metadata": {},
   "outputs": [],
   "source": [
    "# 4 \n",
    "# Calculate the increase in temperature in from 1970 to 2100 \n",
    "# (use your projected CO2 level as  𝑐1  and the value from 1970 as  𝑐0 ).\n",
    "c0 = 325.03 # c0\n",
    "c1_2100  # c1\n",
    "lambda_1 = 0.5\n",
    "alpha = 5.35\n",
    "ln = 2.72\n",
    "\n",
    "delta_f2100 = alpha * (ln*(c1_2100 / c0)) #radiative forcing\n",
    "delta_T2100 = lambda_1 * delta_f2100 \n",
    "print(\"Temperature is:\", delta_T2100, \"\\n\") # temperature"
   ]
  },
  {
   "cell_type": "code",
   "execution_count": null,
   "metadata": {},
   "outputs": [],
   "source": [
    "#5 Now generalize steps 3. and 4. by writing a function \"predict_increase\" \n",
    "# that takes an int year larger than 1970 as an input and returns the increase in temperature from 1970 to year.\n",
    "from datetime import datetime\n",
    "\n",
    "def predict_increase(year):\n",
    "    \n",
    "    for i in year:\n",
    "        year = int(year)\n",
    "        if year > 1970:\n",
    "            print(\"correct\")\n",
    "            break\n",
    "            \n",
    "        else:\n",
    "            print(\"input a year over 1970\")\n",
    "            break\n",
    "            \n",
    "\n",
    "        \n",
    "    "
   ]
  },
  {
   "cell_type": "code",
   "execution_count": null,
   "metadata": {},
   "outputs": [],
   "source": [
    "predict_increase(\"1969\")"
   ]
  },
  {
   "cell_type": "code",
   "execution_count": null,
   "metadata": {},
   "outputs": [],
   "source": [
    "dt_2019 = datetime(2019,3,1)\n",
    "print(\"Seconds since 1970,1,1:\", dt_2019.timestamp())\n",
    "\n",
    "Mar_2019 = dt_2019.timestamp() // 3600\n",
    "print(\"hours since 1970,1,1:\", Mar_2019)"
   ]
  },
  {
   "cell_type": "code",
   "execution_count": null,
   "metadata": {},
   "outputs": [],
   "source": [
    "predict_increase(\"1969\")"
   ]
  },
  {
   "cell_type": "code",
   "execution_count": null,
   "metadata": {},
   "outputs": [],
   "source": [
    "c0 = 325.03 # c0\n",
    "    lambda_1 = 0.5\n",
    "    alpha = 5.35\n",
    "    ln = 2.72"
   ]
  },
  {
   "cell_type": "code",
   "execution_count": 3,
   "metadata": {},
   "outputs": [
    {
     "name": "stdout",
     "output_type": "stream",
     "text": [
      "Seconds since 1970,1,1: 1666810225.110107 \n",
      "\n",
      "hours since 1970,1,1: 463002.0\n"
     ]
    }
   ],
   "source": [
    "# 1, get how many hours have passed since Jan 1, 1970\n",
    "\n",
    "from datetime import datetime\n",
    "\n",
    "# input datetime\n",
    "dt = datetime.now()\n",
    "print(\"Seconds since 1970,1,1:\", dt.timestamp(), \"\\n\")\n",
    "\n",
    "hour = dt.timestamp() // 3600\n",
    "print(\"hours since 1970,1,1:\", hour)\n"
   ]
  },
  {
   "cell_type": "code",
   "execution_count": 4,
   "metadata": {},
   "outputs": [
    {
     "name": "stdout",
     "output_type": "stream",
     "text": [
      "There is an increase of: 0.00018777456684852345 per hour since 1970\n"
     ]
    }
   ],
   "source": [
    "#2 Use this time difference to calculate the average CO2 increase per hour since 1970.\n",
    "\n",
    "c1 = 411.97\n",
    "c0 = 325.03\n",
    "\n",
    "CO2_inc_perhour = (c1-c0) / hour\n",
    "print(\"There is an increase of:\", CO2_inc_perhour, \"per hour since 1970\")"
   ]
  },
  {
   "cell_type": "code",
   "execution_count": 5,
   "metadata": {},
   "outputs": [
    {
     "name": "stdout",
     "output_type": "stream",
     "text": [
      "There are: 683748.0  hours between 2022 and 2100 \n",
      "\n",
      "The level of CO2 on 2100 is estimated to increase around:  128.39 \n",
      "\n",
      "By 2100, the CO2 level will be: 540.36\n"
     ]
    }
   ],
   "source": [
    "# 3 Use this CO2 increase per hour to calculate a projection of \n",
    "# what the CO2 level could be in 2100 (assuming that the CO2 increase per hour stays constant).\n",
    "\n",
    "hours_2022to2100 = 365.25 * 24 * 78\n",
    "print(\"There are:\", hours_2022to2100 , \" hours between 2022 and 2100\" ,\"\\n\")\n",
    "\n",
    "actual_CO2_inc = hours_2022to2100 * CO2_inc_perhour\n",
    "rounded_CO2_inc = round(actual_CO2_inc,2)\n",
    "print(\"The level of CO2 on 2100 is estimated to increase around: \" , rounded_CO2_inc, \"\\n\")\n",
    "\n",
    "co2_projection = rounded_CO2_inc + c1\n",
    "print(\"By 2100, the CO2 level will be:\", co2_projection)"
   ]
  },
  {
   "cell_type": "code",
   "execution_count": 6,
   "metadata": {},
   "outputs": [
    {
     "name": "stdout",
     "output_type": "stream",
     "text": [
      "Radiation forcing = 2.7195018261164763 \n",
      "\n",
      "From 1970 to 2100, the temperature will increase by: 1.3597509130582381\n"
     ]
    }
   ],
   "source": [
    "# 4 Calculate the increase in temperature in from 1970 to 2100 \n",
    "# (use your projected CO2 level as  𝑐1  and the value from 1970 as  𝑐0 ).\n",
    "import math\n",
    "\n",
    "#radiation forcing \n",
    "delta_f = 5.35 * math.log(co2_projection / c0)\n",
    "print(\"Radiation forcing =\", delta_f, \"\\n\")\n",
    "\n",
    "#temperature increase\n",
    "projected_temp = 0.5 * delta_f\n",
    "print(\"From 1970 to 2100, the temperature will increase by:\", projected_temp)\n"
   ]
  },
  {
   "cell_type": "code",
   "execution_count": 21,
   "metadata": {},
   "outputs": [],
   "source": [
    "#5 Now generalize steps 3. and 4. by writing a function \"predict_increase\" \n",
    "# that takes an int year larger than 1970 as an input and returns the increase in temperature from 1970 to year.\n",
    "\n",
    "\n",
    "def predict_increase():\n",
    "    import math\n",
    "    year = input(\"Please input a year:\")\n",
    "    x = int(year) - 1970\n",
    "    x = int(x)\n",
    "    CO2_inc_perhour = 0.00018779762374611516\n",
    "    c0 = 325.03\n",
    "    \n",
    "    year_projection = 365.25 * 24 * int(x)\n",
    "    actual_CO2_inc = year_projection * CO2_inc_perhour\n",
    "    co2_projection = actual_CO2_inc + c0\n",
    "    delta_f = 5.35 * math.log(co2_projection / c0) #radiation forcing\n",
    "    projected_temp = 0.5 * delta_f\n",
    "    print(\"Between 1970 and\", str(year), \"the temperature increase\", round(projected_temp,4),\"degrees\")\n",
    "        \n",
    "    \n",
    "\n"
   ]
  },
  {
   "cell_type": "code",
   "execution_count": 22,
   "metadata": {},
   "outputs": [
    {
     "name": "stdout",
     "output_type": "stream",
     "text": [
      "Please input a year:1990\n",
      "Between 1970 and 1990 the temperature increase 0.2581 degrees\n"
     ]
    }
   ],
   "source": [
    "predict_increase()"
   ]
  },
  {
   "cell_type": "code",
   "execution_count": null,
   "metadata": {},
   "outputs": [],
   "source": []
  }
 ],
 "metadata": {
  "kernelspec": {
   "display_name": "Python 3 (ipykernel)",
   "language": "python",
   "name": "python3"
  },
  "language_info": {
   "codemirror_mode": {
    "name": "ipython",
    "version": 3
   },
   "file_extension": ".py",
   "mimetype": "text/x-python",
   "name": "python",
   "nbconvert_exporter": "python",
   "pygments_lexer": "ipython3",
   "version": "3.9.12"
  }
 },
 "nbformat": 4,
 "nbformat_minor": 2
}
