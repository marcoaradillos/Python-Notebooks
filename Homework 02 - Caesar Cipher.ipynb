{
 "cells": [
  {
   "cell_type": "markdown",
   "metadata": {},
   "source": [
    "<div>\n",
    "    <img src=\"images/emlyon.png\" style=\"height:60px; float:left; padding-right:10px; margin-top:5px\" />\n",
    "    <span>\n",
    "        <h1 style=\"padding-bottom:5px;\"> Python BootCamp </h1>\n",
    "        <a href=\"https://masters.em-lyon.com/en/msc-in-digital-marketing-data-science\">[Emlyon]</a> MSc in Digital Marketing & Data Science (DMDS) <br/>\n",
    "         September 2022, Paris | © Saeed VARASTEH [RP] | Lucas VILLAIN\n",
    "    </span>\n",
    "</div>"
   ]
  },
  {
   "cell_type": "markdown",
   "metadata": {},
   "source": [
    "<div class=\"alert-info\" style=\"border-bottom: solid 1px lightgray; background-color:#fff4e3;\">\n",
    "    <img src=\"images/homework.png\" style=\"height:60px; float:left; padding-right:10px;\" />\n",
    "    <span style=\"font-weight:bold; color:#db9425\">\n",
    "        <h4 style=\"padding-top:25px;\"> HOMEWORK 02 </h4>\n",
    "    </span>\n",
    "</div>"
   ]
  },
  {
   "cell_type": "markdown",
   "metadata": {},
   "source": [
    "### Homework 02 - Caesar Cipher\n",
    "\n",
    "---"
   ]
  },
  {
   "cell_type": "markdown",
   "metadata": {},
   "source": [
    "The Caesar Cipher is a very simple encryption method that replaces each letter in a text by another letter which is specified by a given shift in the alphabet. The shift determines how many letters in the alphabet one should go ahead to find the replacement.\n",
    "\n",
    "Example:\n",
    "\n",
    "- The letter ”a” with shift 1 results in the letter ”b”.\n",
    "- The letter ”c” with shift 2 results in the letter ”e”.\n",
    "\n",
    "Negative shifting is also possible: \n",
    "\n",
    "- The letter ”f” with shift -1 results in the letter ”e”.\n",
    "\n",
    "When a letter would ”drop off” one end of the alphabet, we just start at the other end:\n",
    "\n",
    "- The letter ”z” with shift 1 results in the letter ”a”. \n",
    "- The letter ”a” with shift -3 results in the letter ”x”"
   ]
  },
  {
   "cell_type": "markdown",
   "metadata": {},
   "source": [
    "__The Task__\n",
    "\n",
    "After years of work for the secret society of secrets, you have finally got your hands on a secret message from the evil league of evil and want to decrypt it. Due to your extensive study of the evil league of evil, you already know that they always encrypt their messages using the Caesar Cipher. As your time is too valuable to just try out every single possible shift. \n",
    "\n",
    "You remember that some letters are more common than others in the English language, e.g. the letter ”e” is the most common one. Using this knowledge you want to analyze the secret message and figure out the key.\n",
    "\n",
    "In order to do so, follow these steps:\n",
    "\n",
    "1. Go through the given, encrypted string and count how often each letter appears. Save the result in an an appropriate data structure.\n",
    "\n",
    "2. Find the most common letter in the secret message, knowing that ”e” is the most common letter in the English language, calculate the shift that was used to encrypt the message.\n",
    "\n",
    "Hint: You can use python's `set` and `dict`."
   ]
  },
  {
   "cell_type": "code",
   "execution_count": null,
   "metadata": {},
   "outputs": [],
   "source": [
    "secret_message = \"\"\"Pm fvb nla tf tlzzhnl, Fvb ullk av ruvd aol Ltsfvu Wfaovu IvvaJhtw pz leayltlsf hthgpun!\"\"\".lower()"
   ]
  },
  {
   "cell_type": "code",
   "execution_count": null,
   "metadata": {},
   "outputs": [],
   "source": [
    "print(secret_message)"
   ]
  },
  {
   "cell_type": "code",
   "execution_count": 6,
   "metadata": {},
   "outputs": [
    {
     "name": "stdout",
     "output_type": "stream",
     "text": [
      "The word: \" l \" with 10 repeats.\n",
      "The shift is:  7\n"
     ]
    }
   ],
   "source": [
    "# your code\n",
    "dict = {}\n",
    "for i in secret_message:\n",
    "    if i in dict:\n",
    "        dict[i] = dict[i] + 1\n",
    "    else:\n",
    "        dict[i] = 1\n",
    "    \n",
    "del dict[\" \"]\n",
    "dict\n",
    "\n",
    "#getting the most common number\n",
    "\n",
    "max_rep_value = 0\n",
    "\n",
    "for i in dict:\n",
    "    if dict[i] > max_rep_value:\n",
    "        max_rep_value = dict[i]\n",
    "        max_rep_char = i\n",
    "\n",
    "        \n",
    "print(\"The word: \\\"\" , max_rep_char , \"\\\" with\" , max_rep_value, \"repeats.\")\n",
    "print(\"The shift is: \", ord(\"l\") - ord(\"e\"))\n",
    "        \n",
    "        \n",
    "        \n",
    "\n"
   ]
  },
  {
   "cell_type": "markdown",
   "metadata": {},
   "source": [
    "3. Decrypt the message: After you figure out the shift, you are now ready to write a program that will decrypt your secret message, based on the shift that was used."
   ]
  },
  {
   "cell_type": "code",
   "execution_count": 2,
   "metadata": {},
   "outputs": [
    {
     "name": "stdout",
     "output_type": "stream",
     "text": [
      "The secret message is:  pm fvb nla tf tlzzhnl, fvb ullk av ruvd aol ltsfvu wfaovu ivvajhtw pz leayltlsf hthgpun!\n",
      "Decrypted, it is: if you get my message you need to know the emlyon python bootcamp is extremely amazing\n"
     ]
    }
   ],
   "source": [
    "# your code shift = 7\n",
    "# 1_aplhabet = abcdefghijklmnopqrstuvwxyz , \n",
    "# l_alphabet = lmnopqrstuvwxyzabcdefghijk\n",
    "\n",
    "\n",
    "shift = 7\n",
    "secret_message = \"\"\"Pm fvb nla tf tlzzhnl, Fvb ullk av ruvd aol Ltsfvu Wfaovu IvvaJhtw pz leayltlsf hthgpun!\"\"\".lower()\n",
    "plain_text = \"\"\n",
    "space = \" \"\n",
    "\n",
    "for c in secret_message:\n",
    "    if c.islower():\n",
    "        c_unicode = ord(c) # changing string in position c into a unicode\n",
    "        c_index = ord(c) - ord(\"a\") # (unicode of c in secret message) - (unicode of \"a\") to get the coded character\n",
    "        new_index = (c_index - shift) % 26 # perform the negative shift\n",
    "        new_unicode = new_index + ord(\"a\") # change to new character\n",
    "        new_character = chr(new_unicode) #changing the unicode back into a str\n",
    "        # append into plain text\n",
    "        plain_text = plain_text + new_character\n",
    "        #create a space condition\n",
    "    elif c == \" \":\n",
    "        space = \" \"\n",
    "        plain_text = plain_text + space\n",
    "\n",
    "print(\"The secret message is: \", secret_message)\n",
    "print(\"Decrypted, it is:\", plain_text)"
   ]
  },
  {
   "cell_type": "markdown",
   "metadata": {},
   "source": [
    "__Hint:__ You will need the functions `ord` and `chr`. Remember, unicode numbers are from 97 to 122."
   ]
  },
  {
   "cell_type": "markdown",
   "metadata": {},
   "source": [
    "---"
   ]
  },
  {
   "cell_type": "code",
   "execution_count": 7,
   "metadata": {},
   "outputs": [
    {
     "name": "stdout",
     "output_type": "stream",
     "text": [
      "For key 0 decrypted text: pm fvb nla tf tlzzhnl, fvb ullk av ruvd aol ltsfvu wfaovu ivvajhtw pz leayltlsf hthgpun!\n",
      "For key 1 decrypted text: ol eua mkz se skyygmk, eua tkkj zu qtuc znk ksreut veznut huuzigsv oy kdzxkskre gsgfotm!\n",
      "For key 2 decrypted text: nk dtz ljy rd rjxxflj, dtz sjji yt pstb ymj jrqdts udymts gttyhfru nx jcywjrjqd frfensl!\n",
      "For key 3 decrypted text: mj csy kix qc qiwweki, csy riih xs orsa xli iqpcsr tcxlsr fssxgeqt mw ibxviqipc eqedmrk!\n",
      "For key 4 decrypted text: li brx jhw pb phvvdjh, brx qhhg wr nqrz wkh hpobrq sbwkrq errwfdps lv hawuhphob dpdclqj!\n",
      "For key 5 decrypted text: kh aqw igv oa oguucig, aqw pggf vq mpqy vjg gonaqp ravjqp dqqvecor ku gzvtgogna cocbkpi!\n",
      "For key 6 decrypted text: jg zpv hfu nz nfttbhf, zpv offe up lopx uif fnmzpo qzuipo cppudbnq jt fyusfnfmz bnbajoh!\n",
      "For key 7 decrypted text: if you get my message, you need to know the emlyon python bootcamp is extremely amazing!\n",
      "For key 8 decrypted text: he xnt fds lx ldrrzfd, xnt mddc sn jmnv sgd dlkxnm oxsgnm annsbzlo hr dwsqdldkx zlzyhmf!\n",
      "For key 9 decrypted text: gd wms ecr kw kcqqyec, wms lccb rm ilmu rfc ckjwml nwrfml zmmraykn gq cvrpckcjw ykyxgle!\n",
      "For key 10 decrypted text: fc vlr dbq jv jbppxdb, vlr kbba ql hklt qeb bjivlk mvqelk yllqzxjm fp buqobjbiv xjxwfkd!\n",
      "For key 11 decrypted text: eb ukq cap iu iaoowca, ukq jaaz pk gjks pda aihukj lupdkj xkkpywil eo atpnaiahu wiwvejc!\n",
      "For key 12 decrypted text: da tjp bzo ht hznnvbz, tjp izzy oj fijr ocz zhgtji ktocji wjjoxvhk dn zsomzhzgt vhvudib!\n",
      "For key 13 decrypted text: cz sio ayn gs gymmuay, sio hyyx ni ehiq nby ygfsih jsnbih viinwugj cm yrnlygyfs ugutcha!\n",
      "For key 14 decrypted text: by rhn zxm fr fxlltzx, rhn gxxw mh dghp max xferhg irmahg uhhmvtfi bl xqmkxfxer tftsbgz!\n",
      "For key 15 decrypted text: ax qgm ywl eq ewkksyw, qgm fwwv lg cfgo lzw wedqgf hqlzgf tggluseh ak wpljwewdq sesrafy!\n",
      "For key 16 decrypted text: zw pfl xvk dp dvjjrxv, pfl evvu kf befn kyv vdcpfe gpkyfe sffktrdg zj vokivdvcp rdrqzex!\n",
      "For key 17 decrypted text: yv oek wuj co cuiiqwu, oek duut je adem jxu ucboed fojxed reejsqcf yi unjhucubo qcqpydw!\n",
      "For key 18 decrypted text: xu ndj vti bn bthhpvt, ndj ctts id zcdl iwt tbandc eniwdc qddirpbe xh tmigtbtan pbpoxcv!\n",
      "For key 19 decrypted text: wt mci ush am asggous, mci bssr hc ybck hvs sazmcb dmhvcb pcchqoad wg slhfsaszm oaonwbu!\n",
      "For key 20 decrypted text: vs lbh trg zl zrffntr, lbh arrq gb xabj gur rzylba clguba obbgpnzc vf rkgerzryl nznmvat!\n",
      "For key 21 decrypted text: ur kag sqf yk yqeemsq, kag zqqp fa wzai ftq qyxkaz bkftaz naafomyb ue qjfdqyqxk mymluzs!\n",
      "For key 22 decrypted text: tq jzf rpe xj xpddlrp, jzf yppo ez vyzh esp pxwjzy ajeszy mzzenlxa td piecpxpwj lxlktyr!\n",
      "For key 23 decrypted text: sp iye qod wi wocckqo, iye xoon dy uxyg dro owviyx zidryx lyydmkwz sc ohdbowovi kwkjsxq!\n",
      "For key 24 decrypted text: ro hxd pnc vh vnbbjpn, hxd wnnm cx twxf cqn nvuhxw yhcqxw kxxcljvy rb ngcanvnuh jvjirwp!\n",
      "For key 25 decrypted text: qn gwc omb ug umaaiom, gwc vmml bw svwe bpm mutgwv xgbpwv jwwbkiux qa mfbzmumtg iuihqvo!\n"
     ]
    }
   ],
   "source": [
    "#brute force method: answer is key 7\n",
    "\n",
    "secret_message = \"\"\"Pm fvb nla tf tlzzhnl, Fvb ullk av ruvd aol Ltsfvu Wfaovu IvvaJhtw pz leayltlsf hthgpun!\"\"\".lower()\n",
    "\n",
    "def bf_cipher_decrypt_lower(secret_message, key):\n",
    "    decrypted = \"\"\n",
    "    for c in secret_message:\n",
    "        if c.islower():\n",
    "            c_index = ord(c) - ord('a')\n",
    "            c_og_pos = (c_index - key) % 26 + ord('a')\n",
    "            c_og = chr(c_og_pos)\n",
    "            decrypted = decrypted + c_og\n",
    "        else:\n",
    "            decrypted = decrypted + c\n",
    "    return decrypted\n",
    "    \n",
    "\n",
    "\n",
    "for i in range(0,26):\n",
    "    plain_text = bf_cipher_decrypt_lower(secret_message,i)\n",
    "    \n",
    "    print(\"For key\" , i , \"decrypted text:\" ,plain_text)"
   ]
  },
  {
   "cell_type": "code",
   "execution_count": null,
   "metadata": {},
   "outputs": [],
   "source": [
    "ord(\"c\")"
   ]
  },
  {
   "cell_type": "code",
   "execution_count": null,
   "metadata": {},
   "outputs": [],
   "source": []
  }
 ],
 "metadata": {
  "kernelspec": {
   "display_name": "Python 3 (ipykernel)",
   "language": "python",
   "name": "python3"
  },
  "language_info": {
   "codemirror_mode": {
    "name": "ipython",
    "version": 3
   },
   "file_extension": ".py",
   "mimetype": "text/x-python",
   "name": "python",
   "nbconvert_exporter": "python",
   "pygments_lexer": "ipython3",
   "version": "3.9.12"
  }
 },
 "nbformat": 4,
 "nbformat_minor": 2
}
