{
 "cells": [
  {
   "cell_type": "markdown",
   "metadata": {},
   "source": [
    "<div>\n",
    "    <img src=\"images/emlyon.png\" style=\"height:60px; float:left; padding-right:10px; margin-top:5px\" />\n",
    "    <span>\n",
    "        <h1 style=\"padding-bottom:5px;\"> Python BootCamp </h1>\n",
    "        <a href=\"https://masters.em-lyon.com/en/msc-in-digital-marketing-data-science\">[Emlyon]</a> MSc in Digital Marketing & Data Science (DMDS) <br/>\n",
    "         September 2022, Paris | © Saeed VARASTEH [RP] | Lucas VILLAIN\n",
    "    </span>\n",
    "</div>"
   ]
  },
  {
   "cell_type": "markdown",
   "metadata": {},
   "source": [
    "<div class=\"alert-info\" style=\"border-bottom: solid 1px lightgray; background-color:#fff4e3;\">\n",
    "    <img src=\"images/homework.png\" style=\"height:60px; float:left; padding-right:10px;\" />\n",
    "    <span style=\"font-weight:bold; color:#db9425\">\n",
    "        <h4 style=\"padding-top:25px;\"> HOMEWORK 03 </h4>\n",
    "    </span>\n",
    "</div>"
   ]
  },
  {
   "cell_type": "markdown",
   "metadata": {},
   "source": [
    "### Homework 03 - Counting Sort\n",
    "\n",
    "---"
   ]
  },
  {
   "cell_type": "markdown",
   "metadata": {},
   "source": [
    "Counting Sort is a sorting algorithm, which means it sorts a list of numbers L from smallest to largest and returns the sorted list S. Here, we restrict ourselves to positive integers (including 0) that have a known maximum value m."
   ]
  },
  {
   "cell_type": "markdown",
   "metadata": {},
   "source": [
    "Counting Sort first creates a list C of all potential values (0 to m) and counts for each value how often it occurs in the original list L. Then it goes through this list of counts C and adds each value the appropriate number of times to the sorted list S, which is returned."
   ]
  },
  {
   "cell_type": "markdown",
   "metadata": {},
   "source": [
    "We want you to implement the given Counting Sort pseudocode in Python:"
   ]
  },
  {
   "cell_type": "markdown",
   "metadata": {},
   "source": [
    "<pre>\n",
    "def counting sort(L, m):\n",
    "    initialize S as an empty list\n",
    "    initialize a list C of length m + 1 with every value being 0\n",
    "    for every value v in L do:\n",
    "        Cv ← Cv + 1\n",
    "    for every value c at index i in C do:\n",
    "        do c times:\n",
    "            append the value i to S\n",
    "    return S\n",
    "</pre>"
   ]
  },
  {
   "cell_type": "code",
   "execution_count": 38,
   "metadata": {},
   "outputs": [],
   "source": [
    "def counting_sort(L,m):\n",
    "    S = []\n",
    "    numbers = m+1\n",
    "    C = [0] * numbers\n",
    "    for v in L:\n",
    "        C[v] = C[v] + 1 #count the times the elements appear\n",
    "    i = 0\n",
    "    for c in C: # for the elements in c\n",
    "        while c > 0:  \n",
    "            S.append(i)\n",
    "            c = c - 1     \n",
    "        i = i + 1\n",
    "        \n",
    "    return S"
   ]
  },
  {
   "cell_type": "markdown",
   "metadata": {},
   "source": [
    "__Note:__ Cv is the value of the element at index v in list C."
   ]
  },
  {
   "cell_type": "markdown",
   "metadata": {},
   "source": [
    "Test your implementation with the list `[4, 9, 2, 4, 1, 1, 5, 1, 0, 0, 9]`, which has a maximum value of 9."
   ]
  },
  {
   "cell_type": "code",
   "execution_count": 40,
   "metadata": {},
   "outputs": [
    {
     "data": {
      "text/plain": [
       "[0, 0, 1, 1, 1, 2, 4, 4, 5, 9, 9]"
      ]
     },
     "execution_count": 40,
     "metadata": {},
     "output_type": "execute_result"
    }
   ],
   "source": [
    "L = [4, 9, 2, 4, 1, 1, 5, 1, 0, 0, 9]\n",
    "counting_sort(L,9)"
   ]
  },
  {
   "cell_type": "markdown",
   "metadata": {},
   "source": [
    "---"
   ]
  }
 ],
 "metadata": {
  "kernelspec": {
   "display_name": "Python 3 (ipykernel)",
   "language": "python",
   "name": "python3"
  },
  "language_info": {
   "codemirror_mode": {
    "name": "ipython",
    "version": 3
   },
   "file_extension": ".py",
   "mimetype": "text/x-python",
   "name": "python",
   "nbconvert_exporter": "python",
   "pygments_lexer": "ipython3",
   "version": "3.9.12"
  }
 },
 "nbformat": 4,
 "nbformat_minor": 2
}
